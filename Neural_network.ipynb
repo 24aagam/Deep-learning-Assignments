{
  "nbformat": 4,
  "nbformat_minor": 0,
  "metadata": {
    "colab": {
      "provenance": []
    },
    "kernelspec": {
      "name": "python3",
      "display_name": "Python 3"
    },
    "language_info": {
      "name": "python"
    }
  },
  "cells": [
    {
      "cell_type": "markdown",
      "source": [
        "# **Theoretical**"
      ],
      "metadata": {
        "id": "ntda9R2rEIuk"
      }
    },
    {
      "cell_type": "markdown",
      "source": [
        "# 1) What is deep learning, and how is it connected to artificial intelligence\n",
        "\n",
        "**Ans:** Deep Learning is a subfield of machine learning that uses artificial neural networks with multiple layers (hence \"deep\") to analyze data, recognize patterns, and make decisions.\n",
        "\n",
        "**Connection to Artificial Intelligence (AI):**\n",
        "- **AI** is the broad concept of machines or systems that mimic human intelligence to perform tasks like problem-solving, reasoning, and learning.\n",
        "-**Machine Learning (ML)** is a subset of AI that enables machines to learn from data without being explicitly programmed.\n",
        "- **Deep Learning (DL)** is a further subset of ML that mimics how the human brain processes information through neural networks."
      ],
      "metadata": {
        "id": "nx_y-hWsEc9x"
      }
    },
    {
      "cell_type": "markdown",
      "source": [
        "# 2) What is a neural network, and what are the different types of neural networks?\n",
        "\n",
        "**Ans:** A neural network is a subset of machine learning inspired by the structure of the human brain. It consists of interconnected nodes (neurons) arranged in layers that process data and identify patterns. Neural networks are designed to learn from data and can solve complex tasks like image recognition, natural language processing, and predictive analytics.\n",
        "\n",
        "\n",
        "**Types of Neural Networks**\n",
        "1. Feedforward Neural Network (FNN)\n",
        "2. Convolutional Neural Network (CNN)\n",
        "3. Recurrent Neural Network (RNN)\n",
        "4. Long Short-Term Memory (LSTM)\n",
        "5. Generative Adversarial Network (GAN)\n",
        "6. Autoencoders\n",
        "7. Radial Basis Function Network (RBFN)\n",
        "8. Transformers\n",
        "9. Self-Organizing Maps (SOM)\n",
        "10. Spiking Neural Networks (SNN)\n",
        "\n"
      ],
      "metadata": {
        "id": "oraGc7etEcO4"
      }
    },
    {
      "cell_type": "markdown",
      "source": [
        "# 3) What is the mathematical structure of a neural network?\n",
        "\n",
        "**Ans:** The mathematical structure of a neural network involves the following components:\n",
        "\n",
        "### 1. **Neurons (Nodes)**\n",
        "A neuron is the basic unit in a neural network. It takes **inputs**, applies a **weighted sum** and **bias**, and passes the result through an **activation function**.\n",
        "\n",
        "Mathematically:\n",
        "\n",
        "$$\n",
        "z = \\sum_{i=1}^{n} w_i x_i + b \\quad \\text{or in vector form: } z = W^T X + b\n",
        "$$\n",
        "\n",
        "---\n",
        "\n",
        "### 2. **Activation Function**\n",
        "An activation function introduces **non-linearity** to the model. Some common functions include:\n",
        "- **ReLU**: $f(z) = max(0, z)$\n",
        "- **Sigmoid**: $f(z) = \\frac{1}{1 + e^{-z}}$\n",
        "- **Tanh**: $f(z) = \\frac{e^z - e^{-z}}{e^z + e^{-z}}$\n",
        "\n",
        "Thus, the **output** of a neuron is:\n",
        "$$\n",
        "a = f(z) = f(W^T X + b)\n",
        "$$\n",
        "\n",
        "---\n",
        "\n",
        "### 3. **Layers**\n",
        "Neurons are grouped into layers:\n",
        "- **Input Layer**: Takes raw input data $ X $.\n",
        "- **Hidden Layers**: Layers where computations are performed using weights, biases, and activations.\n",
        "- **Output Layer**: Produces the final output \\( $\\hat{y}$ \\).\n",
        "\n",
        "For a hidden layer $ l $, the output $ A^{(l)}$  is:\n",
        "$$\n",
        "A^{(l)} = f(W^{(l)} A^{(l-1)} + b^{(l)})$$\n",
        "\n",
        "---\n",
        "\n",
        "### 4. **Weight Matrices and Bias Vectors**\n",
        "- $W $: The weight matrix represents connections between neurons across layers. Dimensions depend on the number of neurons.\n",
        "- $b $: Bias vector ensures the network can fit data better by shifting activations.\n",
        "\n",
        "For $ n $-layer networks:\n",
        "$$\n",
        "Z^{(l)} = W^{(l)} A^{(l-1)} + b^{(l)}\n",
        "$$\n",
        "\n",
        "---\n",
        "\n",
        "### 5. **Loss Function**\n",
        "A loss function measures the difference between the predicted output $ \\hat{y} $ and the true output $ y $. Examples include:\n",
        "- Mean Squared Error (MSE): $ L = \\frac{1}{n} \\sum (y_i - \\hat{y}_i)^2 $\n",
        "- Cross-Entropy Loss (for classification):\n",
        "$$\n",
        "L = - \\frac{1}{n} \\sum y_i \\log(\\hat{y}_i)\n",
        "$$\n",
        "\n",
        "---\n",
        "\n",
        "### 6. **Backpropagation and Gradients**\n",
        "Training a neural network involves minimizing the loss function using an optimization algorithm (like Gradient Descent). Gradients of weights $ W $ and biases $ b $ are computed using **backpropagation**.\n",
        "\n",
        "Gradient Update Rule:\n",
        "$$\n",
        "W^{(l)} \\leftarrow W^{(l)} - \\eta \\frac{\\partial L}{\\partial W^{(l)}}\n",
        "$$\n",
        "- $ \\eta $: Learning rate  \n",
        "- $ \\frac{\\partial L}{\\partial W} $: Gradient of loss w.r.t weights  \n",
        "\n",
        "---\n",
        "\n",
        "### 7. **Structure of the Entire Network**\n",
        "For a neural network with \\( L \\) layers:\n",
        "1. Input: $ A^{(0)} = X $\n",
        "2. Hidden layers:\n",
        "$$\n",
        "A^{(l)} = f(W^{(l)} A^{(l-1)} + b^{(l)}) \\quad \\text{for } l = 1, 2, ..., L-1\n",
        "$$\n",
        "3. Output:\n",
        "$$\n",
        "\\hat{y} = A^{(L)} = f_{\\text{output}}(Z^{(L)})\n",
        "$$\n",
        "\n",
        "\n"
      ],
      "metadata": {
        "id": "Uz_-WmsjDtuu"
      }
    },
    {
      "cell_type": "markdown",
      "source": [
        "# 4) What is an activation function, and why is it essential in neural?\n",
        "\n",
        "**Ans:** An activation function in a neural network is a mathematical function applied to the output of a neuron (weighted sum of inputs + bias) to determine whether it should activate or not. It introduces non-linearity into the model, enabling it to learn and model complex relationships in the data.\n",
        "\n",
        "### **Why is it essential?**\n",
        "1. **Non-Linearity:**\n",
        "Neural networks model real-world problems that are rarely linear. Activation functions allow neurons to capture non-linear patterns in data, like recognizing shapes, images, or speech.\n",
        "\n",
        "2. **Decision Boundaries:**\n",
        "Without activation functions, neural networks would behave like a linear regression model, no matter how many layers they have. Activation functions help define non-linear decision boundaries.\n",
        "\n",
        "3. **Backpropagation:**\n",
        "Activation functions introduce differentiability, which is necessary for gradient descent and backpropagation to optimize the network's weights.\n",
        "\n"
      ],
      "metadata": {
        "id": "QjGLhJTBU7SY"
      }
    },
    {
      "cell_type": "markdown",
      "source": [
        "# 5) Could you list some common activation functions used in neural networks?\n",
        "\n",
        "**Ans:**Here are **some common activation functions** used in neural networks:\n",
        "\n",
        "1. **Sigmoid**  \n",
        "   - Formula: $ \\sigma(x) = \\frac{1}{1 + e^{-x}} $  \n",
        "   \n",
        "\n",
        "2. **ReLU (Rectified Linear Unit)**  \n",
        "   - Formula: $ f(x) = \\max(0, x) $  \n",
        "   \n",
        "3. **Tanh (Hyperbolic Tangent)**  \n",
        "   - Formula: $ f(x) = \\frac{e^x - e^{-x}}{e^x + e^{-x}} $  \n",
        "\n",
        "4. **Leaky ReLU**  \n",
        "   - Formula: $ f(x) = x $ if $ x > 0 $, else $ f(x) = \\alpha x $ (small $\\alpha > 0$).  \n",
        "\n",
        "\n",
        "5. **Softmax**  \n",
        "   - Formula: $ \\text{softmax}(x_i) = \\frac{e^{x_i}}{\\sum_{j=1}^n e^{x_j}} $  \n",
        "\n",
        "6. **ELU (Exponential Linear Unit)**  \n",
        "   - Formula:  \n",
        "     $ f(x) = x $ if $ x > 0 $, else $ f(x) = \\alpha (e^x - 1) $.  \n",
        "  \n",
        "\n",
        "7. **Swish**  \n",
        "   - Formula: $ f(x) = x \\cdot \\sigma(x) $ where $ \\sigma(x) $ is the sigmoid function.  \n"
      ],
      "metadata": {
        "id": "wwMryBTEMRKq"
      }
    },
    {
      "cell_type": "markdown",
      "source": [
        "# 6) What is a multilayer neural network?\n",
        "\n",
        "**Ans:**\n",
        "\"Multilayer\" means it has more than one layer of neurons (hidden layers). A multilayer neural network (often called a multilayer perceptron, or MLP) is a type of artificial neural network composed of:\n",
        "\n",
        "1. Input layer: Receives the input features.\n",
        "2. Hidden layers: One or more intermediate layers where computations occur using neurons.\n",
        "3. Output layer: Produces the final prediction or output.\n",
        "\n",
        "Each neuron in one layer is connected to neurons in the next layer through weights, and each connection applies an activation function (like ReLU, Sigmoid) to introduce non-linearity, enabling the network to learn complex patterns."
      ],
      "metadata": {
        "id": "n9DoXTEsPfrf"
      }
    },
    {
      "cell_type": "markdown",
      "source": [
        "# 7) What is a loss function, and why is it crucial for neural network training?\n",
        "\n",
        "**Ans:**\n",
        "A loss function is a mathematical function that measures the difference between the predicted output of a neural network and the actual target (ground truth). It quantifies how well or poorly the model is performing.\n",
        "\n",
        "### Why is it crucial for neural network training?\n",
        "1. **Guides Optimization:** The loss function provides a signal (loss value) to the optimization algorithm (e.g., gradient descent) to adjust the model's weights and minimize the error.\n",
        "\n",
        "2. **Measures Performance:** It gives a numerical representation of the model’s error, helping track progress during training.\n",
        "\n",
        "3. **Backpropagation:** During training, the gradients of the loss function with respect to model parameters are computed. These gradients are essential for updating the weights in the direction that minimizes the loss."
      ],
      "metadata": {
        "id": "MrFCGUzcP_yg"
      }
    },
    {
      "cell_type": "markdown",
      "source": [
        "# 8) What are some common types of loss functions?\n",
        "\n",
        "<!-- **Ans:** $$\n",
        "MSE = \\frac{1}{n} \\sum_{i=1}^n (y_i - \\hat{y}_i)^2\n",
        "$$ -->\n",
        "**Ans:**\n",
        "Loss functions measure the error between predicted and actual values, and they are crucial in machine learning. Here are some **common types of loss functions**:\n",
        "\n",
        "   - **Mean Squared Error (MSE):**  \n",
        "     $$\n",
        "     MSE = \\frac{1}{n} \\sum_{i=1}^{n} (y_i - \\hat{y}_i)^2\n",
        "     $$  \n",
        "     Penalizes large errors more heavily, sensitive to outliers.\n",
        "\n",
        "   - **Mean Absolute Error (MAE):**  \n",
        "     $$\n",
        "     MAE = \\frac{1}{n} \\sum_{i=1}^{n} |y_i - \\hat{y}_i|\n",
        "     $$  \n",
        "     Less sensitive to outliers than MSE.\n",
        "\n",
        "   - **Cross-Entropy Loss (Log Loss):**  \n",
        "     Common for **binary** and **multi-class classification**.  \n",
        "     $$\n",
        "     \\text{Binary Cross-Entropy} = - \\frac{1}{n} \\sum_{i=1}^{n} \\left[ y_i \\log(\\hat{y}_i) + (1-y_i) \\log(1-\\hat{y}_i) \\right]\n",
        "     $$\n",
        "\n",
        "   - **Hinge Loss:**  \n",
        "     Used for **Support Vector Machines (SVMs)**.  \n",
        "     $$\n",
        "     \\text{Hinge Loss} = \\sum_{i=1}^{n} \\max(0, 1 - y_i \\hat{y}_i)\n",
        "     $$\n",
        "\n"
      ],
      "metadata": {
        "id": "Pf4ECQbCVlvc"
      }
    },
    {
      "cell_type": "markdown",
      "source": [
        "# 9) How does a neural network learn?\n",
        "\n",
        "**Ans:** Neural networks learn by adjusting the weights of connections between neurons to minimize the difference between their predicted outputs and the actual target values. This process involves several key steps:\n",
        "\n",
        "1. **Forward Propagation:** The network processes input data through its layers, with each neuron applying an activation function to its weighted inputs to produce an output. This results in a predicted output for the given input.\n",
        "\n",
        "2. **Loss Calculation:** The network evaluates the discrepancy between the predicted output and the actual target value using a loss function, such as mean squared error for regression tasks or cross-entropy loss for classification tasks. This loss quantifies the error in the network's prediction.\n",
        "\n",
        "3. **Backward Propagation (Backpropagation):** The network computes the gradient of the loss function with respect to each weight by applying the chain rule of calculus backward through the network. This step identifies how changes in each weight affect the overall loss.\n",
        "WIKIPEDIA\n",
        "\n",
        "4. **Weight Update:** Using the calculated gradients, the network adjusts its weights in the direction that reduces the loss, typically employing an optimization algorithm like gradient descent. The learning rate parameter controls the size of these adjustments."
      ],
      "metadata": {
        "id": "oe-R5f8nXdAw"
      }
    },
    {
      "cell_type": "markdown",
      "source": [
        "# 10) What is an optimizer in neural networks, and why is it necessary?\n",
        "\n",
        "**Ans:** In neural networks, an optimizer is an algorithm or method used to adjust the model's parameters—such as weights and biases—to minimize the loss function during training. The loss function quantifies the difference between the network's predicted outputs and the actual target values. By iteratively updating the parameters, the optimizer seeks to reduce this discrepancy, thereby enhancing the model's accuracy.\n",
        "\n",
        "Optimizers are essential because they determine how the model learns from the training data. The choice of optimizer can significantly influence the efficiency and effectiveness of the training process. For instance, some optimizers may converge faster, while others might achieve better generalization to new, unseen data. Selecting an appropriate optimizer is crucial for the model to learn effectively and perform well on tasks such as classification, regression, or other machine learning applications."
      ],
      "metadata": {
        "id": "xL0Px8CneK93"
      }
    },
    {
      "cell_type": "markdown",
      "source": [
        "# 11) Could you briefly describe some common optimizers?\n",
        "\n",
        "**Ans:** Here are some commonly used optimizers:\n",
        "\n",
        "- Gradient Descent\n",
        "    - The most basic optimizer, it updates parameters by moving in the direction of the negative gradient of the loss function. While simple, it can be slow and may struggle with complex, non-convex loss surfaces.\n",
        "- Stochastic Gradient Descent (SGD)\n",
        "    - An improvement over basic gradient descent, SGD updates parameters using the gradient of the loss function with respect to a randomly selected subset of the training data. This introduces randomness, which can help escape local minima but may lead to noisy updates.\n",
        "\n",
        "\n",
        "\n",
        "- SGD with Momentum\n",
        " - This variant adds a fraction of the previous update to the current update, helping the optimizer gain speed in the relevant direction and dampen oscillations. It's particularly useful for navigating ravines, where the surface curves much more steeply in one dimension than in another.\n",
        "\n",
        "\n",
        "\n",
        "- RMSprop\n",
        "    - Root Mean Square Propagation adjusts the learning rate for each parameter by dividing the gradient by a running average of its recent magnitude. This helps in dealing with the problem of vanishing and exploding gradients.\n",
        "\n",
        "\n",
        "\n",
        "- Adam (Adaptive Moment Estimation)\n",
        "    - Combining the advantages of two other extensions of SGD, namely AdaGrad and RMSProp, Adam computes adaptive learning rates for each parameter by estimating the first moment (mean) and the second moment (uncentered variance) of the gradients. It's widely used due to its efficiency and low memory requirements."
      ],
      "metadata": {
        "id": "PZ96ic1yf8Dw"
      }
    },
    {
      "cell_type": "markdown",
      "source": [
        "# 12) Can you explain forward and backward propagation in a neural network?\n",
        "\n",
        "**Ans:**\n",
        "In neural networks, forward propagation and backward propagation are fundamental processes that enable the network to make predictions and learn from errors.\n",
        "\n",
        "**Forward Propagation:**\n",
        "\n",
        "This is the initial phase where input data is passed through the network to generate an output. Each layer in the network processes the data by applying weights, biases, and activation functions. The steps involved are:\n",
        "\n",
        "1. **Input Layer:** The raw data (e.g., images, text, numerical values) is fed into the network.\n",
        "\n",
        "2. **Hidden Layers:** Each hidden layer performs computations on the input data. This involves:\n",
        "\n",
        "    - Calculating a weighted sum of inputs.\n",
        "    - Adding a bias term.\n",
        "    - Applying an activation function (e.g., ReLU, sigmoid) to introduce non-linearity.\n",
        "3. **Output Layer:** The final layer produces the network's prediction or output.\n",
        "\n",
        "The primary goal of forward propagation is to compute the network's output based on the current weights and biases. This output is then compared to the actual target to assess the network's performance.\n",
        "\n",
        "**Backward Propagation:**\n",
        "\n",
        "After forward propagation, the network evaluates the error by comparing the predicted output to the actual target. Backward propagation, or backpropagation, is the process of updating the network's weights and biases to minimize this error. The steps involved are:\n",
        "\n",
        "1. **Compute Loss:** Calculate the loss (error) using a loss function (e.g., mean squared error, cross-entropy) that measures the difference between the predicted output and the actual target.\n",
        "\n",
        "2. **Calculate Gradients:** Determine the gradient of the loss with respect to each weight and bias in the network. This involves:\n",
        "\n",
        "    - Applying the chain rule of calculus to propagate the error backward through the network.\n",
        "    - Computing partial derivatives of the loss concerning each parameter.\n",
        "3. **Update Weights and Biases:** Adjust the weights and biases using an optimization algorithm (e.g., gradient descent) to reduce the loss. The update rule is:\n",
        "\n",
        "    - New weight = Old weight - Learning rate × Gradient.\n",
        "\n",
        "By iteratively performing forward and backward propagation, the network learns to make accurate predictions by adjusting its parameters to minimize the error."
      ],
      "metadata": {
        "id": "8cAfvfTEhRVU"
      }
    },
    {
      "cell_type": "markdown",
      "source": [
        "# 13) What is weight initialization, and how does it impact training?\n",
        "\n",
        "\n",
        "\n",
        "**Ans:** Weight initialization is the process of setting the initial values of the weights in a neural network before training begins. Proper initialization is crucial because it influences the network's ability to learn effectively and converge to an optimal solution.\n",
        "\n",
        "**Impact on Training:**\n",
        "\n",
        "1. **Convergence Speed:** Appropriate weight initialization can accelerate the convergence of the training process, leading to faster learning. Conversely, poor initialization may cause slow convergence or even prevent the network from learning effectively.\n",
        "\n",
        "\n",
        "2. **Avoiding Vanishing and Exploding Gradients:** Improper initialization can lead to issues like vanishing or exploding gradients, where gradients become too small or too large, respectively, hindering effective learning. Proper initialization helps maintain the scale of gradients, facilitating stable and efficient training.\n",
        "\n",
        "\n",
        "3. **Activation Function Saturation:** Certain activation functions, such as the sigmoid or tanh, can saturate if inputs are too large or too small, leading to gradients that are close to zero. Proper weight initialization helps keep the inputs to these functions within a range where they are sensitive to changes, promoting effective learning.\n",
        "\n",
        "\n",
        "4. **Symmetry Breaking:** Initializing all weights to the same value, such as zero, can cause neurons to learn the same features during training, effectively making them redundant. Random initialization breaks this symmetry, allowing neurons to learn diverse features."
      ],
      "metadata": {
        "id": "XjmQajbflzC2"
      }
    },
    {
      "cell_type": "markdown",
      "source": [
        "# 14) What is the vanishing gradient problem in deep learning?\n",
        "\n",
        "**Ans:** The vanishing gradient problem occurs in deep learning when gradients become very small as they are back-propagated through layers in a neural network. This is common in deep networks, particularly with sigmoid or tanh activation functions."
      ],
      "metadata": {
        "id": "ii-1-rdcV-9D"
      }
    },
    {
      "cell_type": "markdown",
      "source": [
        "# 15) What is the exploding gradient problem?\n",
        "\n",
        "**Ans:** The exploding gradient problem occurs during the training of neural networks, especially deep networks, where gradients grow exponentially large as they are backpropagated through layers."
      ],
      "metadata": {
        "id": "uL87D2OQXKjr"
      }
    },
    {
      "cell_type": "markdown",
      "source": [
        "# Practical"
      ],
      "metadata": {
        "id": "qrxFyYt1YALi"
      }
    },
    {
      "cell_type": "markdown",
      "source": [
        "# 1) How do you create a simple perceptron for basic binary classification?\n"
      ],
      "metadata": {
        "id": "YmXK_EzWY1gE"
      }
    },
    {
      "cell_type": "code",
      "source": [
        "import math\n",
        "\n",
        "class Preceptron:\n",
        "\n",
        "  def __init__(self , num_inputs , thre):\n",
        "    self.weights = [0.0] * num_inputs\n",
        "    self.bias = 0.0\n",
        "    self.thre  = thre\n",
        "\n",
        "\n",
        "  def predict(self , inputs):\n",
        "    weighted_sum = sum(w*x for w , x in zip(self.weights , inputs)) + self.bias\n",
        "\n",
        "    output = 1/(1+math.exp(-weighted_sum)) # sgmoid function\n",
        "\n",
        "    return 1 if output > self.thre else 0\n",
        "\n",
        "\n",
        "  def train(self, training_data , targets , learning_rate , epochs):\n",
        "    for epoch in range(epochs):\n",
        "      for input , target in zip(training_data , targets):\n",
        "        print(input , target)\n",
        "        prediction = self.predict(input)  # step 1\n",
        "        print(prediction)\n",
        "        error = target - prediction # step 2\n",
        "        print(error)\n",
        "        for i in range(len(self.weights)):\n",
        "          self.weights[i] += learning_rate*error* input[i]\n",
        "          self.bias += learning_rate *error"
      ],
      "metadata": {
        "id": "t8K3TDBCcyb3"
      },
      "execution_count": null,
      "outputs": []
    },
    {
      "cell_type": "markdown",
      "source": [
        "# 2) How can you build a neural network with one hidden layer using Keras?\n"
      ],
      "metadata": {
        "id": "k4vES7IjhPRK"
      }
    },
    {
      "cell_type": "code",
      "source": [
        "from keras import Sequential\n",
        "from keras.layers import Dense"
      ],
      "metadata": {
        "id": "RtGUxAczdjTq"
      },
      "execution_count": 1,
      "outputs": []
    },
    {
      "cell_type": "code",
      "source": [
        "model = Sequential()\n",
        "model.add(Dense(10, activation='relu', input_shape=(4,))) # Input layer or first layer\n",
        "model.add(Dense(8, activation='relu'))  # Hidden layer\n",
        "model.add(Dense(1, activation='sigmoid')) # Output layer\n"
      ],
      "metadata": {
        "id": "qk_QzqUGK06w"
      },
      "execution_count": null,
      "outputs": []
    },
    {
      "cell_type": "markdown",
      "source": [
        "# 3) How do you initialize weights using the Xavier (Glorot) initialization method in Keras?\n"
      ],
      "metadata": {
        "id": "13CM-Q4YMvuP"
      }
    },
    {
      "cell_type": "code",
      "source": [
        "from keras.layers import Input, Dense\n",
        "from keras.models import Model\n",
        "from keras.initializers import GlorotUniform, GlorotNormal"
      ],
      "metadata": {
        "id": "yp_qPrFmM0uV"
      },
      "execution_count": 1,
      "outputs": []
    },
    {
      "cell_type": "code",
      "source": [
        "inputs = Input(shape=(64,))\n",
        "\n",
        "x = Dense(units=128,activation='relu', kernel_initializer=GlorotUniform)(inputs)\n",
        "\n",
        "x = Dense(units=64,activation='relu', kernel_initializer=GlorotNormal)(x)\n",
        "\n",
        "output = Dense(units=10, activation='sigmoid')(x)\n",
        "\n",
        "model = Model(inputs=inputs, outputs=output)"
      ],
      "metadata": {
        "id": "cLJhOkD8OAYf"
      },
      "execution_count": 3,
      "outputs": []
    },
    {
      "cell_type": "markdown",
      "source": [
        "# 4) How can you apply different activation functions in a neural network in Keras?"
      ],
      "metadata": {
        "id": "O7YYCOhNPqPR"
      }
    },
    {
      "cell_type": "code",
      "source": [
        "from keras import Sequential\n",
        "from keras.layers import Dense"
      ],
      "metadata": {
        "id": "y2-UNJKNRfhN"
      },
      "execution_count": 5,
      "outputs": []
    },
    {
      "cell_type": "code",
      "source": [
        "model = Sequential([\n",
        "    Dense(10, activation='relu', input_shape=(4,)), # Relu activation\n",
        "    Dense(8, activation='tanh'),       # Tanh activation\n",
        "    Dense(1, activation='softmax')  # Softmax Activation\n",
        "])"
      ],
      "metadata": {
        "id": "eIdI0NqhSL0w"
      },
      "execution_count": null,
      "outputs": []
    },
    {
      "cell_type": "markdown",
      "source": [
        "# 5) How do you add dropout to a neural network model to prevent overfitting?"
      ],
      "metadata": {
        "id": "5pj431wsSOSu"
      }
    },
    {
      "cell_type": "code",
      "source": [
        "from keras import Sequential\n",
        "from keras.layers import Dense, Dropout"
      ],
      "metadata": {
        "id": "iADP05JKS9YI"
      },
      "execution_count": 8,
      "outputs": []
    },
    {
      "cell_type": "code",
      "source": [
        "model = Sequential()\n",
        "model.add(Dense(128, activation='relu', input_shape=(4,)))\n",
        "model.add(Dropout(0.5))  # 50% dropout rate\n",
        "model.add(Dense(64, activation='relu'))\n",
        "model.add(Dropout(0.5))\n",
        "model.add(Dense(1, activation='softmax'))"
      ],
      "metadata": {
        "id": "kxopKvCyUL-Z"
      },
      "execution_count": null,
      "outputs": []
    },
    {
      "cell_type": "markdown",
      "source": [
        "# 6) How do you manually implement forward propagation in a simple neural network?"
      ],
      "metadata": {
        "id": "Dybzr3i9UfvA"
      }
    },
    {
      "cell_type": "code",
      "source": [
        "import numpy as np\n",
        "\n",
        "# Example dimensions\n",
        "n_x = 3  # number of input features\n",
        "n_h = 4  # number of hidden units\n",
        "n_y = 1  # number of output units\n",
        "m = 5    # number of examples\n",
        "\n",
        "# Initialize input data (X) and parameters\n",
        "np.random.seed(1)\n",
        "X = np.random.randn(n_x, m)\n",
        "W_1 = np.random.randn(n_h, n_x)\n",
        "b_1 = np.zeros((n_h, 1))\n",
        "W_2 = np.random.randn(n_y, n_h)\n",
        "b_2 = np.zeros((n_y, 1))\n",
        "\n",
        "# Define the sigmoid activation function\n",
        "def sigmoid(z):\n",
        "    return 1 / (1 + np.exp(-z))\n",
        "\n",
        "# Forward propagation\n",
        "Z_1 = np.dot(W_1, X) + b_1\n",
        "A_1 = sigmoid(Z_1)\n",
        "Z_2 = np.dot(W_2, A_1) + b_2\n",
        "A_2 = sigmoid(Z_2)\n",
        "\n",
        "# A_2 contains the output of the network\n",
        "print(\"Output of the network (A_2):\", A_2)\n"
      ],
      "metadata": {
        "colab": {
          "base_uri": "https://localhost:8080/"
        },
        "id": "2HC4fwFnUxuU",
        "outputId": "aa6ccc9a-4d53-4850-a6b0-f4b039e2bec0"
      },
      "execution_count": 9,
      "outputs": [
        {
          "output_type": "stream",
          "name": "stdout",
          "text": [
            "Output of the network (A_2): [[0.40221761 0.27246131 0.25547948 0.2750368  0.4414989 ]]\n"
          ]
        }
      ]
    },
    {
      "cell_type": "markdown",
      "source": [
        "# 7) How do you add batch normalization to a neural network model in Keras?"
      ],
      "metadata": {
        "id": "hZ5qAA32V4kH"
      }
    },
    {
      "cell_type": "code",
      "source": [
        "from keras import Sequential\n",
        "from keras.layers import Dense, BatchNormalization"
      ],
      "metadata": {
        "id": "2VFjQWsAWXYx"
      },
      "execution_count": 10,
      "outputs": []
    },
    {
      "cell_type": "code",
      "source": [
        "model = Sequential()\n",
        "model.add(Dense(64, input_shape=(4,), activation='relu'))\n",
        "model.add(BatchNormalization())\n",
        "model.add(Dense(32, activation='relu'))\n",
        "model.add(BatchNormalization())\n",
        "model.add(Dense(1, activation='softmax'))\n"
      ],
      "metadata": {
        "id": "TIzMU7WIWkwm"
      },
      "execution_count": null,
      "outputs": []
    },
    {
      "cell_type": "markdown",
      "source": [
        "# 8) How can you visualize the training process with accuracy and loss curves?"
      ],
      "metadata": {
        "id": "IEBpDHFGWv3w"
      }
    },
    {
      "cell_type": "code",
      "source": [
        "import matplotlib.pyplot as plt\n",
        "\n",
        "# Assuming 'history' is the History object returned by model.fit()\n",
        "history = model.fit(X_train, y_train, epochs=50, validation_data=(X_val, y_val))\n",
        "\n",
        "# Extract loss and accuracy for training and validation\n",
        "train_loss = history.history['loss']\n",
        "val_loss = history.history['val_loss']\n",
        "train_acc = history.history['accuracy']\n",
        "val_acc = history.history['val_accuracy']\n",
        "\n",
        "# Determine the number of epochs\n",
        "epochs = range(1, len(train_loss) + 1)\n",
        "\n",
        "# Plot Loss\n",
        "plt.figure(figsize=(12, 5))\n",
        "\n",
        "plt.subplot(1, 2, 1)\n",
        "plt.plot(epochs, train_loss, 'bo-', label='Training Loss')\n",
        "plt.plot(epochs, val_loss, 'ro-', label='Validation Loss')\n",
        "plt.title('Training and Validation Loss')\n",
        "plt.xlabel('Epochs')\n",
        "plt.ylabel('Loss')\n",
        "plt.legend()\n",
        "\n",
        "# Plot Accuracy\n",
        "plt.subplot(1, 2, 2)\n",
        "plt.plot(epochs, train_acc, 'bo-', label='Training Accuracy')\n",
        "plt.plot(epochs, val_acc, 'ro-', label='Validation Accuracy')\n",
        "plt.title('Training and Validation Accuracy')\n",
        "plt.xlabel('Epochs')\n",
        "plt.ylabel('Accuracy')\n",
        "plt.legend()\n",
        "\n",
        "plt.tight_layout()\n",
        "plt.show()\n"
      ],
      "metadata": {
        "id": "bsA88ggoW595"
      },
      "execution_count": null,
      "outputs": []
    },
    {
      "cell_type": "markdown",
      "source": [
        "# 9) How can you use gradient clipping in Keras to control the gradient size and prevent exploding gradients?"
      ],
      "metadata": {
        "id": "wbExCqYCZxpt"
      }
    },
    {
      "cell_type": "code",
      "source": [
        "from keras.models import Sequential\n",
        "from keras.layers import Dense\n",
        "from keras.optimizers import SGD\n",
        "\n",
        "# Define your model\n",
        "model = Sequential()\n",
        "model.add(Dense(64, activation='relu',input_shape=(4,)))\n",
        "model.add(Dense(1, activation='softmax'))\n",
        "\n",
        "# Configure the optimizer with gradient clipping\n",
        "optimizer = SGD(learning_rate=0.01, momentum=0.9, clipnorm=1.0)\n",
        "\n",
        "# Compile the model\n",
        "model.compile(optimizer=optimizer,\n",
        "              loss='categorical_crossentropy',\n",
        "              metrics=['accuracy'])\n"
      ],
      "metadata": {
        "id": "3E93VfXGZ6CV"
      },
      "execution_count": 13,
      "outputs": []
    },
    {
      "cell_type": "markdown",
      "source": [
        "# 10) How can you create a custom loss function in Keras?"
      ],
      "metadata": {
        "id": "nVY1HG3bawaN"
      }
    },
    {
      "cell_type": "code",
      "source": [
        "import tensorflow as tf\n",
        "from tensorflow import keras\n",
        "from tensorflow.keras import layers\n",
        "from tensorflow.keras.models import Sequential\n",
        "from keras import backend as K\n",
        "import numpy as np\n",
        "from tensorflow.python.ops import math_ops\n",
        "\n",
        "def customloss(Y_actual, Y_predicted):\n",
        " absolute_diff = abs((Y_predicted*Y_predicted) - (Y_actual*Y_actual))  #squared difference\n",
        " final_loss =(K.mean(absolute_diff, axis=-1))/100 #mean over last dimension\n",
        " return final_loss\n",
        "\n",
        "model = keras.Sequential([\n",
        "                   keras.layers.Dense(10, activation='relu', input_shape=(1,)),\n",
        "                   keras.layers.Dense(1)\n",
        "])\n",
        "model.compile(loss=customloss, optimizer='adam')"
      ],
      "metadata": {
        "id": "qyHFDyRFbi58"
      },
      "execution_count": 15,
      "outputs": []
    },
    {
      "cell_type": "markdown",
      "source": [
        "# 11) How can you visualize the structure of a neural network model in Keras?"
      ],
      "metadata": {
        "id": "aUQZpYWschEh"
      }
    },
    {
      "cell_type": "code",
      "source": [
        "from tensorflow.keras.utils import plot_model\n",
        "\n",
        "# Assuming 'model' is your Keras model\n",
        "plot_model(model, to_file='model.png', show_shapes=True, show_layer_names=True)"
      ],
      "metadata": {
        "colab": {
          "base_uri": "https://localhost:8080/",
          "height": 606
        },
        "collapsed": true,
        "id": "wSG-i9z9djJd",
        "outputId": "4334383f-b158-4341-efe1-e248f4c3ed5a"
      },
      "execution_count": 16,
      "outputs": [
        {
          "output_type": "execute_result",
          "data": {
            "image/png": "[encoded data removed]",
            "text/plain": [
              "<IPython.core.display.Image object>"
            ]
          },
          "metadata": {},
          "execution_count": 16
        }
      ]
    },
    {
      "cell_type": "code",
      "source": [],
      "metadata": {
        "id": "SArsksFqdoTu"
      },
      "execution_count": null,
      "outputs": []
    }
  ]
}